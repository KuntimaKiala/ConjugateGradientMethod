{
 "cells": [
  {
   "cell_type": "code",
   "execution_count": 4,
   "id": "e6ff6e0e-6303-4dee-b79b-fa9ad9f9890d",
   "metadata": {},
   "outputs": [],
   "source": [
    "import numpy as np \n",
    "from matplotlib import pyplot as plt"
   ]
  },
  {
   "cell_type": "code",
   "execution_count": null,
   "id": "382246b8-c990-46e3-97a8-c2e1bcfb8468",
   "metadata": {},
   "outputs": [],
   "source": []
  },
  {
   "cell_type": "markdown",
   "id": "576655f9-455c-4751-82f7-0411ef158ed0",
   "metadata": {},
   "source": [
    "# 1. Steepest Descent "
   ]
  },
  {
   "cell_type": "code",
   "execution_count": null,
   "id": "926f5b0d-4bae-424d-aa23-36b6858d5b20",
   "metadata": {},
   "outputs": [
    {
     "name": "stdout",
     "output_type": "stream",
     "text": [
      "\n",
      "A\n",
      "[[3. 2.]\n",
      " [2. 6.]]\n",
      "\n",
      "b\n",
      "[[ 2]\n",
      " [-8]]\n",
      "\n",
      "f(x) = xAxT - bTx + c\n",
      "\n",
      " Ax = b\n"
     ]
    }
   ],
   "source": [
    "A = np.array([[3,2],[2,6]],dtype=np.float64)\n",
    "b = np.array([[2],[-8]])\n",
    "print(f\"\\nA\\n{A}\")\n",
    "print(f\"\\nb\\n{b}\")\n",
    "print(f\"\\nf(x) = xAxT - bTx + c\")\n",
    "print(\"\\n Ax = b\")\n"
   ]
  },
  {
   "cell_type": "code",
   "execution_count": null,
   "id": "d5066bec-ab29-4459-ae8e-52d2cca5117c",
   "metadata": {},
   "outputs": [],
   "source": []
  },
  {
   "cell_type": "code",
   "execution_count": null,
   "id": "42a5d0a2-4abc-419c-b4b7-4e55cf47a29f",
   "metadata": {},
   "outputs": [],
   "source": []
  },
  {
   "cell_type": "code",
   "execution_count": null,
   "id": "4241f229-0da7-4de2-8f8f-979e36c70752",
   "metadata": {},
   "outputs": [],
   "source": []
  },
  {
   "cell_type": "markdown",
   "id": "cee001fb-d507-4ed9-890b-d17c7717eae2",
   "metadata": {},
   "source": [
    "# 2. Eigen Approach "
   ]
  },
  {
   "cell_type": "code",
   "execution_count": null,
   "id": "c8fcc54d-7fc5-44cd-a23f-9a4a6dd0b889",
   "metadata": {},
   "outputs": [],
   "source": []
  }
 ],
 "metadata": {
  "kernelspec": {
   "display_name": "universe",
   "language": "python",
   "name": "python3"
  },
  "language_info": {
   "codemirror_mode": {
    "name": "ipython",
    "version": 3
   },
   "file_extension": ".py",
   "mimetype": "text/x-python",
   "name": "python",
   "nbconvert_exporter": "python",
   "pygments_lexer": "ipython3",
   "version": "3.10.13"
  }
 },
 "nbformat": 4,
 "nbformat_minor": 5
}
